{
 "cells": [
  {
   "cell_type": "code",
   "execution_count": 1,
   "id": "34105a33-cb5a-431b-ad4f-b2c33285f158",
   "metadata": {},
   "outputs": [],
   "source": [
    "import math"
   ]
  },
  {
   "cell_type": "code",
   "execution_count": 2,
   "id": "8df78c3d-35d6-4fed-bbe1-55309a278f59",
   "metadata": {},
   "outputs": [],
   "source": [
    "import math\n",
    "class Value:\n",
    "  def __init__(self, data, children = (), op=''):\n",
    "    self.data = data\n",
    "    self._prev = set(children)\n",
    "    self._op = op\n",
    "    self.grad = 0.0\n",
    "    self._backward = lambda:None\n",
    "\n",
    "  def __repr__(self):\n",
    "    return f'Value(data={self.data})'\n",
    "\n",
    "  def __add__(self,other):\n",
    "    other = other if isinstance(other,Value) else Value(other)\n",
    "    out = Value(self.data+other.data,(self,other), '+')\n",
    "    def _backward():\n",
    "      self.grad += 1.0 * out.grad\n",
    "      other.grad += 1.0 * out.grad\n",
    "    out._backward = _backward\n",
    "    return out\n",
    "\n",
    "  def __radd__(self,other):\n",
    "    return self+other\n",
    "\n",
    "  def __sub__(self, other):\n",
    "    other = other if isinstance(other, Value) else Value(other)\n",
    "    out = Value(self.data+other.data,(self,other), '-')\n",
    "    def _backward(self):\n",
    "      self.grad += 1.0 * out.grad\n",
    "      other.grad += -1.0 * out.grad\n",
    "    return out\n",
    "\n",
    "  def __rmul__(self,other):\n",
    "    return self*other\n",
    "\n",
    "  def __mul__(self, other):\n",
    "    other = other if isinstance(other,Value) else Value(other)\n",
    "    out = Value(self.data*other.data, (self,other), '*')\n",
    "\n",
    "    def _backward():\n",
    "      self.grad += other.data\n",
    "      other.grad += self.data\n",
    "    out._backward = _backward\n",
    "    return out\n",
    "\n",
    "  def tanh(self):\n",
    "    x = self.data\n",
    "    t = (math.exp(2*x)-1)/(math.exp(2*x)+1)\n",
    "    out = Value(t, (self,), 'tanh')\n",
    "\n",
    "    def _backward():\n",
    "      self.grad += (1-(t**2)) * out.grad\n",
    "\n",
    "    out._backward = _backward\n",
    "    return out\n",
    "\n",
    "  def backward(self):\n",
    "    topo = []\n",
    "    visited = set()\n",
    "    def build_topo(v):\n",
    "      if v not in visited:\n",
    "        visited.add(v)\n",
    "        for child in v._prev:\n",
    "          build_topo(child)\n",
    "        topo.append(v)\n",
    "    build_topo(self)\n",
    "\n",
    "    for node in reversed(topo):\n",
    "      node._backward()\n"
   ]
  },
  {
   "cell_type": "code",
   "execution_count": null,
   "id": "79ba6c6c-e231-4360-816e-1f57cb2984a0",
   "metadata": {},
   "outputs": [],
   "source": []
  }
 ],
 "metadata": {
  "kernelspec": {
   "display_name": "Python 3 (ipykernel)",
   "language": "python",
   "name": "python3"
  },
  "language_info": {
   "codemirror_mode": {
    "name": "ipython",
    "version": 3
   },
   "file_extension": ".py",
   "mimetype": "text/x-python",
   "name": "python",
   "nbconvert_exporter": "python",
   "pygments_lexer": "ipython3",
   "version": "3.11.9"
  },
  "widgets": {
   "application/vnd.jupyter.widget-state+json": {
    "state": {},
    "version_major": 2,
    "version_minor": 0
   }
  }
 },
 "nbformat": 4,
 "nbformat_minor": 5
}
