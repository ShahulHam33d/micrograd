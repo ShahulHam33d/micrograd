{
 "cells": [
  {
   "cell_type": "code",
   "execution_count": null,
   "id": "34105a33-cb5a-431b-ad4f-b2c33285f158",
   "metadata": {},
   "outputs": [],
   "source": []
  }
 ],
 "metadata": {
  "kernelspec": {
   "display_name": "",
   "name": ""
  },
  "language_info": {
   "name": ""
  },
  "widgets": {
   "application/vnd.jupyter.widget-state+json": {
    "state": {},
    "version_major": 2,
    "version_minor": 0
   }
  }
 },
 "nbformat": 4,
 "nbformat_minor": 5
}
